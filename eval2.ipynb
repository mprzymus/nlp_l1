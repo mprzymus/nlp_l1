{
 "cells": [
  {
   "cell_type": "code",
   "execution_count": 10,
   "metadata": {
    "collapsed": true
   },
   "outputs": [],
   "source": [
    "from pathlib import Path\n",
    "\n",
    "import pandas as pd\n",
    "import textstat\n",
    "\n",
    "from tqdm import tqdm\n",
    "\n",
    "textstat.set_lang(\"pl\")"
   ]
  },
  {
   "cell_type": "code",
   "execution_count": 15,
   "metadata": {
    "collapsed": false
   },
   "outputs": [],
   "source": [
    "def read_corpus(f: Path):\n",
    "    data = []\n",
    "    with f.open(mode=\"r\", encoding=\"utf-8\") as file:\n",
    "        current_str = \"\"\n",
    "        for line in tqdm(file):\n",
    "            if line == \"\\n\":\n",
    "                data.append(current_str)\n",
    "                current_str = \"\"\n",
    "            else:\n",
    "                line = line.replace(\"\\n\", \" \")\n",
    "                current_str += line\n",
    "    return data"
   ]
  },
  {
   "cell_type": "code",
   "execution_count": 16,
   "metadata": {},
   "outputs": [],
   "source": [
    "full_file = Path(\"full.txt\")\n",
    "twitter_file = Path(\"corpus.txt\")\n",
    "problem_file = Path(\"problem.txt\")"
   ]
  },
  {
   "cell_type": "code",
   "execution_count": 17,
   "metadata": {},
   "outputs": [
    {
     "name": "stderr",
     "output_type": "stream",
     "text": [
      "13471299it [00:09, 1423540.16it/s]\n"
     ]
    },
    {
     "data": {
      "text/plain": [
       "3401364"
      ]
     },
     "execution_count": 17,
     "metadata": {},
     "output_type": "execute_result"
    }
   ],
   "source": [
    "full_data = read_corpus(full_file)\n",
    "len(full_data)"
   ]
  },
  {
   "cell_type": "code",
   "execution_count": 18,
   "metadata": {},
   "outputs": [
    {
     "name": "stderr",
     "output_type": "stream",
     "text": [
      "2203079it [00:00, 2249730.44it/s]\n"
     ]
    },
    {
     "data": {
      "text/plain": [
       "991200"
      ]
     },
     "execution_count": 18,
     "metadata": {},
     "output_type": "execute_result"
    }
   ],
   "source": [
    "twitter_data = read_corpus(twitter_file)\n",
    "len(twitter_data)"
   ]
  },
  {
   "cell_type": "code",
   "execution_count": 19,
   "metadata": {
    "collapsed": false
   },
   "outputs": [
    {
     "name": "stderr",
     "output_type": "stream",
     "text": [
      "22844it [00:00, 2173555.66it/s]\n"
     ]
    },
    {
     "data": {
      "text/plain": [
       "11053"
      ]
     },
     "execution_count": 19,
     "metadata": {},
     "output_type": "execute_result"
    }
   ],
   "source": [
    "problem_data = read_corpus(problem_file)\n",
    "len(problem_data)"
   ]
  },
  {
   "cell_type": "code",
   "execution_count": 20,
   "metadata": {},
   "outputs": [
    {
     "data": {
      "text/html": [
       "<div>\n",
       "<style scoped>\n",
       "    .dataframe tbody tr th:only-of-type {\n",
       "        vertical-align: middle;\n",
       "    }\n",
       "\n",
       "    .dataframe tbody tr th {\n",
       "        vertical-align: top;\n",
       "    }\n",
       "\n",
       "    .dataframe thead th {\n",
       "        text-align: right;\n",
       "    }\n",
       "</style>\n",
       "<table border=\"1\" class=\"dataframe\">\n",
       "  <thead>\n",
       "    <tr style=\"text-align: right;\">\n",
       "      <th></th>\n",
       "      <th>text</th>\n",
       "    </tr>\n",
       "  </thead>\n",
       "  <tbody>\n",
       "    <tr>\n",
       "      <th>0</th>\n",
       "      <td>Zatrzasnął drzwi od mieszkania, dwa razy przek...</td>\n",
       "    </tr>\n",
       "    <tr>\n",
       "      <th>1</th>\n",
       "      <td>Bohaterem powieści Paźniewskiego jest miasto, ...</td>\n",
       "    </tr>\n",
       "    <tr>\n",
       "      <th>2</th>\n",
       "      <td>Ale dzisiaj? Jaką dzisiaj odegra rolę poetyka ...</td>\n",
       "    </tr>\n",
       "    <tr>\n",
       "      <th>3</th>\n",
       "      <td>Halina Auderska we wszystkich książkach każe s...</td>\n",
       "    </tr>\n",
       "    <tr>\n",
       "      <th>4</th>\n",
       "      <td>Paźniewski w \"Krótkich dniach\" ofiarował Kreso...</td>\n",
       "    </tr>\n",
       "  </tbody>\n",
       "</table>\n",
       "</div>"
      ],
      "text/plain": [
       "                                                text\n",
       "0  Zatrzasnął drzwi od mieszkania, dwa razy przek...\n",
       "1  Bohaterem powieści Paźniewskiego jest miasto, ...\n",
       "2  Ale dzisiaj? Jaką dzisiaj odegra rolę poetyka ...\n",
       "3  Halina Auderska we wszystkich książkach każe s...\n",
       "4  Paźniewski w \"Krótkich dniach\" ofiarował Kreso..."
      ]
     },
     "execution_count": 20,
     "metadata": {},
     "output_type": "execute_result"
    }
   ],
   "source": [
    "full_df = pd.DataFrame(data=full_data, columns=['text'])\n",
    "full_df.head()"
   ]
  },
  {
   "cell_type": "code",
   "execution_count": 21,
   "metadata": {
    "collapsed": false
   },
   "outputs": [
    {
     "data": {
      "text/html": [
       "<div>\n",
       "<style scoped>\n",
       "    .dataframe tbody tr th:only-of-type {\n",
       "        vertical-align: middle;\n",
       "    }\n",
       "\n",
       "    .dataframe tbody tr th {\n",
       "        vertical-align: top;\n",
       "    }\n",
       "\n",
       "    .dataframe thead th {\n",
       "        text-align: right;\n",
       "    }\n",
       "</style>\n",
       "<table border=\"1\" class=\"dataframe\">\n",
       "  <thead>\n",
       "    <tr style=\"text-align: right;\">\n",
       "      <th></th>\n",
       "      <th>text</th>\n",
       "    </tr>\n",
       "  </thead>\n",
       "  <tbody>\n",
       "    <tr>\n",
       "      <th>0</th>\n",
       "      <td>@user ten w lewym dolnym rogu wyglada ładnie</td>\n",
       "    </tr>\n",
       "    <tr>\n",
       "      <th>1</th>\n",
       "      <td>@user @user @user Był mój. Już przeprosiłem. J...</td>\n",
       "    </tr>\n",
       "    <tr>\n",
       "      <th>2</th>\n",
       "      <td>@user @user @user @user @user @user @user @use...</td>\n",
       "    </tr>\n",
       "    <tr>\n",
       "      <th>3</th>\n",
       "      <td>@user zaprowadzic cie do lazienki andziu?? :]</td>\n",
       "    </tr>\n",
       "    <tr>\n",
       "      <th>4</th>\n",
       "      <td>@user @user @user @user @user Chętni na darmow...</td>\n",
       "    </tr>\n",
       "  </tbody>\n",
       "</table>\n",
       "</div>"
      ],
      "text/plain": [
       "                                                text\n",
       "0      @user ten w lewym dolnym rogu wyglada ładnie \n",
       "1  @user @user @user Był mój. Już przeprosiłem. J...\n",
       "2  @user @user @user @user @user @user @user @use...\n",
       "3     @user zaprowadzic cie do lazienki andziu?? :] \n",
       "4  @user @user @user @user @user Chętni na darmow..."
      ]
     },
     "execution_count": 21,
     "metadata": {},
     "output_type": "execute_result"
    }
   ],
   "source": [
    "twitter_df = pd.DataFrame(data=twitter_data, columns=['text'])\n",
    "twitter_df.head()"
   ]
  },
  {
   "cell_type": "code",
   "execution_count": 22,
   "metadata": {
    "collapsed": false
   },
   "outputs": [
    {
     "data": {
      "text/html": [
       "<div>\n",
       "<style scoped>\n",
       "    .dataframe tbody tr th:only-of-type {\n",
       "        vertical-align: middle;\n",
       "    }\n",
       "\n",
       "    .dataframe tbody tr th {\n",
       "        vertical-align: top;\n",
       "    }\n",
       "\n",
       "    .dataframe thead th {\n",
       "        text-align: right;\n",
       "    }\n",
       "</style>\n",
       "<table border=\"1\" class=\"dataframe\">\n",
       "  <thead>\n",
       "    <tr style=\"text-align: right;\">\n",
       "      <th></th>\n",
       "      <th>text</th>\n",
       "    </tr>\n",
       "  </thead>\n",
       "  <tbody>\n",
       "    <tr>\n",
       "      <th>0</th>\n",
       "      <td>Dla mnie faworytem do tytułu będzie Cracovia. ...</td>\n",
       "    </tr>\n",
       "    <tr>\n",
       "      <th>1</th>\n",
       "      <td>@anonymized_account @anonymized_account Brawo ...</td>\n",
       "    </tr>\n",
       "    <tr>\n",
       "      <th>2</th>\n",
       "      <td>@anonymized_account @anonymized_account Super,...</td>\n",
       "    </tr>\n",
       "    <tr>\n",
       "      <th>3</th>\n",
       "      <td>@anonymized_account @anonymized_account Musi. ...</td>\n",
       "    </tr>\n",
       "    <tr>\n",
       "      <th>4</th>\n",
       "      <td>Odrzut natychmiastowy, kwaśna mina, mam problem</td>\n",
       "    </tr>\n",
       "  </tbody>\n",
       "</table>\n",
       "</div>"
      ],
      "text/plain": [
       "                                                text\n",
       "0  Dla mnie faworytem do tytułu będzie Cracovia. ...\n",
       "1  @anonymized_account @anonymized_account Brawo ...\n",
       "2  @anonymized_account @anonymized_account Super,...\n",
       "3  @anonymized_account @anonymized_account Musi. ...\n",
       "4   Odrzut natychmiastowy, kwaśna mina, mam problem "
      ]
     },
     "execution_count": 22,
     "metadata": {},
     "output_type": "execute_result"
    }
   ],
   "source": [
    "problem_df = pd.DataFrame(data=problem_data, columns=['text'])\n",
    "problem_df.head()"
   ]
  },
  {
   "cell_type": "code",
   "execution_count": 23,
   "metadata": {
    "collapsed": false
   },
   "outputs": [],
   "source": [
    "stop_words_df = pd.read_csv('stopwords.txt', header=None)\n",
    "STOPWORDS = set(stop_words_df[0].to_list()).union({'user'})"
   ]
  },
  {
   "cell_type": "code",
   "execution_count": 48,
   "metadata": {
    "collapsed": false,
    "pycharm": {
     "is_executing": true
    }
   },
   "outputs": [],
   "source": [
    "# import spacy\n",
    "# import seaborn as sns\n",
    "\n",
    "# nlp = spacy.load(\"pl_core_news_md\")\n",
    "# df = pd.DataFrame()\n",
    "# df['doc'] = [nlp(text) for text in problem_df.text]\n",
    "# df['num_tokens'] = [len(token) for token in df.doc]\n",
    "\n",
    "# g = sns.histplot(df.num_tokens)\n"
   ]
  },
  {
   "cell_type": "code",
   "execution_count": 45,
   "metadata": {},
   "outputs": [
    {
     "name": "stdout",
     "output_type": "stream",
     "text": [
      "Sentence count: 10419233\n",
      "Word count: 140393827\n",
      "Letter count: 827606132\n"
     ]
    }
   ],
   "source": [
    "# Statystyki dla korpusu pełnego\n",
    "\n",
    "full_text = full_file.read_text(encoding=\"utf-8\")\n",
    "\n",
    "sent_count_full = 0\n",
    "for t in full_data:\n",
    "    sent_count_full += textstat.sentence_count(t)\n",
    "\n",
    "print(\"Sentence count:\", sent_count_full)\n",
    "print(\"Word count:\", textstat.lexicon_count(full_text))\n",
    "print(\"Letter count:\", textstat.letter_count(full_text, ignore_spaces=True))"
   ]
  },
  {
   "cell_type": "code",
   "execution_count": 44,
   "metadata": {},
   "outputs": [
    {
     "name": "stdout",
     "output_type": "stream",
     "text": [
      "Sentence count: 1520562\n",
      "Word count: 17857055\n",
      "Letter count: 88231086\n"
     ]
    }
   ],
   "source": [
    "# Statystyki dla korpusu wzorcowego\n",
    "\n",
    "twitter_text = twitter_file.read_text(encoding=\"utf-8\")\n",
    "\n",
    "sent_count_twitter = 0\n",
    "for t in twitter_data:\n",
    "    sent_count_twitter += textstat.sentence_count(t)\n",
    "\n",
    "print(\"Sentence count:\", sent_count_twitter)\n",
    "print(\"Word count:\", textstat.lexicon_count(twitter_text))\n",
    "print(\"Letter count:\", textstat.letter_count(twitter_text, ignore_spaces=True))"
   ]
  },
  {
   "cell_type": "code",
   "execution_count": 43,
   "metadata": {},
   "outputs": [
    {
     "name": "stdout",
     "output_type": "stream",
     "text": [
      "Sentence count: 14063\n",
      "Word count: 133222\n",
      "Letter count: 859579\n"
     ]
    }
   ],
   "source": [
    "# Statystyki dla korpusu problemu\n",
    "\n",
    "problem_text = problem_file.read_text(encoding=\"utf-8\")\n",
    "\n",
    "sent_count_problem = 0\n",
    "for t in problem_data:\n",
    "    sent_count_problem += textstat.sentence_count(t)\n",
    "\n",
    "print(\"Sentence count:\", sent_count_problem)\n",
    "print(\"Word count:\", textstat.lexicon_count(problem_text))\n",
    "print(\"Letter count:\", textstat.letter_count(problem_text, ignore_spaces=True))"
   ]
  }
 ],
 "metadata": {
  "kernelspec": {
   "display_name": "Python 3.10.8 64-bit",
   "language": "python",
   "name": "python3"
  },
  "language_info": {
   "codemirror_mode": {
    "name": "ipython",
    "version": 3
   },
   "file_extension": ".py",
   "mimetype": "text/x-python",
   "name": "python",
   "nbconvert_exporter": "python",
   "pygments_lexer": "ipython3",
   "version": "3.10.8"
  },
  "vscode": {
   "interpreter": {
    "hash": "369f2c481f4da34e4445cda3fffd2e751bd1c4d706f27375911949ba6bb62e1c"
   }
  }
 },
 "nbformat": 4,
 "nbformat_minor": 0
}
