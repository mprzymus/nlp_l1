{
 "cells": [
  {
   "cell_type": "code",
   "execution_count": 1,
   "metadata": {
    "collapsed": true
   },
   "outputs": [],
   "source": [
    "from pathlib import Path\n",
    "\n",
    "import pandas as pd\n",
    "import textstat\n",
    "\n",
    "from tqdm import tqdm\n",
    "\n",
    "from config import FULL, CORPUS, PROBLEM, STOPWORDS\n",
    "\n",
    "textstat.set_lang(\"pl\")"
   ]
  },
  {
   "cell_type": "code",
   "execution_count": 2,
   "metadata": {
    "collapsed": false
   },
   "outputs": [],
   "source": [
    "def read_corpus(f: Path):\n",
    "    data = []\n",
    "    with f.open(mode=\"r\", encoding=\"utf-8\") as file:\n",
    "        current_str = \"\"\n",
    "        for line in tqdm(file):\n",
    "            if line == \"\\n\":\n",
    "                data.append(current_str)\n",
    "                current_str = \"\"\n",
    "            else:\n",
    "                line = line.replace(\"\\n\", \" \")\n",
    "                current_str += line\n",
    "    return data"
   ]
  },
  {
   "cell_type": "code",
   "execution_count": 3,
   "metadata": {},
   "outputs": [],
   "source": [
    "full_file = FULL\n",
    "twitter_file = CORPUS\n",
    "problem_file = PROBLEM"
   ]
  },
  {
   "cell_type": "code",
   "execution_count": 4,
   "metadata": {},
   "outputs": [
    {
     "name": "stderr",
     "output_type": "stream",
     "text": [
      "13471299it [00:09, 1389557.84it/s]\n"
     ]
    },
    {
     "data": {
      "text/plain": [
       "3401364"
      ]
     },
     "execution_count": 4,
     "metadata": {},
     "output_type": "execute_result"
    }
   ],
   "source": [
    "full_data = read_corpus(full_file)\n",
    "len(full_data)"
   ]
  },
  {
   "cell_type": "code",
   "execution_count": 5,
   "metadata": {},
   "outputs": [
    {
     "name": "stderr",
     "output_type": "stream",
     "text": [
      "2178988it [00:01, 1663972.33it/s]\n"
     ]
    },
    {
     "data": {
      "text/plain": [
       "987259"
      ]
     },
     "execution_count": 5,
     "metadata": {},
     "output_type": "execute_result"
    }
   ],
   "source": [
    "twitter_data = read_corpus(twitter_file)\n",
    "len(twitter_data)"
   ]
  },
  {
   "cell_type": "code",
   "execution_count": 6,
   "metadata": {
    "collapsed": false
   },
   "outputs": [
    {
     "name": "stderr",
     "output_type": "stream",
     "text": [
      "22844it [00:00, 1640887.12it/s]\n"
     ]
    },
    {
     "data": {
      "text/plain": [
       "11053"
      ]
     },
     "execution_count": 6,
     "metadata": {},
     "output_type": "execute_result"
    }
   ],
   "source": [
    "problem_data = read_corpus(problem_file)\n",
    "len(problem_data)"
   ]
  },
  {
   "cell_type": "code",
   "execution_count": 7,
   "metadata": {
    "collapsed": false
   },
   "outputs": [],
   "source": [
    "stop_words_df = pd.read_csv(STOPWORDS, header=None)\n",
    "STOPWORDS = set(stop_words_df[0].to_list()).union({'user'})"
   ]
  },
  {
   "cell_type": "code",
   "execution_count": 8,
   "metadata": {},
   "outputs": [
    {
     "name": "stdout",
     "output_type": "stream",
     "text": [
      "Sentence count: 10419233\n",
      "Word count: 140393827\n",
      "Letter count: 827606132\n"
     ]
    }
   ],
   "source": [
    "# Statystyki dla korpusu pełnego\n",
    "\n",
    "full_text = full_file.read_text(encoding=\"utf-8\")\n",
    "\n",
    "sent_count_full = 0\n",
    "for t in full_data:\n",
    "    sent_count_full += textstat.sentence_count(t)\n",
    "\n",
    "print(\"Sentence count:\", sent_count_full)\n",
    "print(\"Word count:\", textstat.lexicon_count(full_text))\n",
    "print(\"Letter count:\", textstat.letter_count(full_text, ignore_spaces=True))"
   ]
  },
  {
   "cell_type": "code",
   "execution_count": 9,
   "metadata": {},
   "outputs": [
    {
     "name": "stdout",
     "output_type": "stream",
     "text": [
      "Sentence count: 1472396\n",
      "Word count: 16865493\n",
      "Letter count: 83185373\n"
     ]
    }
   ],
   "source": [
    "# Statystyki dla korpusu wzorcowego\n",
    "\n",
    "twitter_text = twitter_file.read_text(encoding=\"utf-8\")\n",
    "\n",
    "sent_count_twitter = 0\n",
    "for t in twitter_data:\n",
    "    sent_count_twitter += textstat.sentence_count(t)\n",
    "\n",
    "print(\"Sentence count:\", sent_count_twitter)\n",
    "print(\"Word count:\", textstat.lexicon_count(twitter_text))\n",
    "print(\"Letter count:\", textstat.letter_count(twitter_text, ignore_spaces=True))"
   ]
  },
  {
   "cell_type": "code",
   "execution_count": 10,
   "metadata": {},
   "outputs": [
    {
     "name": "stdout",
     "output_type": "stream",
     "text": [
      "Sentence count: 14063\n",
      "Word count: 133222\n",
      "Letter count: 859579\n"
     ]
    }
   ],
   "source": [
    "# Statystyki dla korpusu problemu\n",
    "\n",
    "problem_text = problem_file.read_text(encoding=\"utf-8\")\n",
    "\n",
    "sent_count_problem = 0\n",
    "for t in problem_data:\n",
    "    sent_count_problem += textstat.sentence_count(t)\n",
    "\n",
    "print(\"Sentence count:\", sent_count_problem)\n",
    "print(\"Word count:\", textstat.lexicon_count(problem_text))\n",
    "print(\"Letter count:\", textstat.letter_count(problem_text, ignore_spaces=True))"
   ]
  }
 ],
 "metadata": {
  "kernelspec": {
   "display_name": "Python 3.10.8 64-bit",
   "language": "python",
   "name": "python3"
  },
  "language_info": {
   "codemirror_mode": {
    "name": "ipython",
    "version": 3
   },
   "file_extension": ".py",
   "mimetype": "text/x-python",
   "name": "python",
   "nbconvert_exporter": "python",
   "pygments_lexer": "ipython3",
   "version": "3.10.8"
  },
  "vscode": {
   "interpreter": {
    "hash": "369f2c481f4da34e4445cda3fffd2e751bd1c4d706f27375911949ba6bb62e1c"
   }
  }
 },
 "nbformat": 4,
 "nbformat_minor": 0
}
