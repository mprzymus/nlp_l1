{
 "cells": [
  {
   "cell_type": "code",
   "execution_count": 2,
   "metadata": {
    "collapsed": true
   },
   "outputs": [],
   "source": [
    "import numpy as np\n",
    "import pandas as pd"
   ]
  },
  {
   "cell_type": "code",
   "execution_count": 3,
   "outputs": [
    {
     "data": {
      "text/plain": "        domain                                               text  \\\n0     produkty  Mylący tytuł który sugeruje że mamy do czynien...   \n1     produkty  Łóżeczko , jest śliczne wygląda bardzo masywan...   \n2     produkty  Szczerze mówiąc , to telefon jest beznadziejny...   \n3     produkty  a ) Teleskop nadaje się najwyżej do obserwacji...   \n4     produkty  Film , który zadowoli wszystkich fanów Kinga ....   \n...        ...                                                ...   \n9627  medycyna  Dziękujemy panu Doktorowi za naszego synka bo ...   \n9628  medycyna  W czasie wizyty spotkał em się z dużą życzliwo...   \n9629  medycyna  Jestem bardzo zadowolona z zabiegu biopsji mam...   \n9630  medycyna  witam : ) mój maż ma bardzo poważny problem z ...   \n9631  medycyna  Jest dobrym ginekologiem bynajmniej takie słys...   \n\n             super             a            e             k  \n0     meta_minus_m  meta_minus_m          NaN  meta_minus_m  \n1      meta_plus_s      meta_amb     meta_amb   meta_plus_s  \n2     meta_minus_m  meta_minus_m          NaN  meta_minus_m  \n3              NaN  meta_minus_m          NaN  meta_minus_m  \n4      meta_plus_s   meta_plus_m  meta_plus_s   meta_plus_s  \n...            ...           ...          ...           ...  \n9627   meta_plus_m   meta_plus_m          NaN   meta_plus_m  \n9628   meta_plus_m   meta_plus_m  meta_plus_m           NaN  \n9629   meta_plus_s   meta_plus_m  meta_plus_s           NaN  \n9630     meta_zero     meta_zero    meta_zero           NaN  \n9631      meta_amb      meta_amb          NaN  meta_minus_s  \n\n[9632 rows x 6 columns]",
      "text/html": "<div>\n<style scoped>\n    .dataframe tbody tr th:only-of-type {\n        vertical-align: middle;\n    }\n\n    .dataframe tbody tr th {\n        vertical-align: top;\n    }\n\n    .dataframe thead th {\n        text-align: right;\n    }\n</style>\n<table border=\"1\" class=\"dataframe\">\n  <thead>\n    <tr style=\"text-align: right;\">\n      <th></th>\n      <th>domain</th>\n      <th>text</th>\n      <th>super</th>\n      <th>a</th>\n      <th>e</th>\n      <th>k</th>\n    </tr>\n  </thead>\n  <tbody>\n    <tr>\n      <th>0</th>\n      <td>produkty</td>\n      <td>Mylący tytuł który sugeruje że mamy do czynien...</td>\n      <td>meta_minus_m</td>\n      <td>meta_minus_m</td>\n      <td>NaN</td>\n      <td>meta_minus_m</td>\n    </tr>\n    <tr>\n      <th>1</th>\n      <td>produkty</td>\n      <td>Łóżeczko , jest śliczne wygląda bardzo masywan...</td>\n      <td>meta_plus_s</td>\n      <td>meta_amb</td>\n      <td>meta_amb</td>\n      <td>meta_plus_s</td>\n    </tr>\n    <tr>\n      <th>2</th>\n      <td>produkty</td>\n      <td>Szczerze mówiąc , to telefon jest beznadziejny...</td>\n      <td>meta_minus_m</td>\n      <td>meta_minus_m</td>\n      <td>NaN</td>\n      <td>meta_minus_m</td>\n    </tr>\n    <tr>\n      <th>3</th>\n      <td>produkty</td>\n      <td>a ) Teleskop nadaje się najwyżej do obserwacji...</td>\n      <td>NaN</td>\n      <td>meta_minus_m</td>\n      <td>NaN</td>\n      <td>meta_minus_m</td>\n    </tr>\n    <tr>\n      <th>4</th>\n      <td>produkty</td>\n      <td>Film , który zadowoli wszystkich fanów Kinga ....</td>\n      <td>meta_plus_s</td>\n      <td>meta_plus_m</td>\n      <td>meta_plus_s</td>\n      <td>meta_plus_s</td>\n    </tr>\n    <tr>\n      <th>...</th>\n      <td>...</td>\n      <td>...</td>\n      <td>...</td>\n      <td>...</td>\n      <td>...</td>\n      <td>...</td>\n    </tr>\n    <tr>\n      <th>9627</th>\n      <td>medycyna</td>\n      <td>Dziękujemy panu Doktorowi za naszego synka bo ...</td>\n      <td>meta_plus_m</td>\n      <td>meta_plus_m</td>\n      <td>NaN</td>\n      <td>meta_plus_m</td>\n    </tr>\n    <tr>\n      <th>9628</th>\n      <td>medycyna</td>\n      <td>W czasie wizyty spotkał em się z dużą życzliwo...</td>\n      <td>meta_plus_m</td>\n      <td>meta_plus_m</td>\n      <td>meta_plus_m</td>\n      <td>NaN</td>\n    </tr>\n    <tr>\n      <th>9629</th>\n      <td>medycyna</td>\n      <td>Jestem bardzo zadowolona z zabiegu biopsji mam...</td>\n      <td>meta_plus_s</td>\n      <td>meta_plus_m</td>\n      <td>meta_plus_s</td>\n      <td>NaN</td>\n    </tr>\n    <tr>\n      <th>9630</th>\n      <td>medycyna</td>\n      <td>witam : ) mój maż ma bardzo poważny problem z ...</td>\n      <td>meta_zero</td>\n      <td>meta_zero</td>\n      <td>meta_zero</td>\n      <td>NaN</td>\n    </tr>\n    <tr>\n      <th>9631</th>\n      <td>medycyna</td>\n      <td>Jest dobrym ginekologiem bynajmniej takie słys...</td>\n      <td>meta_amb</td>\n      <td>meta_amb</td>\n      <td>NaN</td>\n      <td>meta_minus_s</td>\n    </tr>\n  </tbody>\n</table>\n<p>9632 rows × 6 columns</p>\n</div>"
     },
     "execution_count": 3,
     "metadata": {},
     "output_type": "execute_result"
    }
   ],
   "source": [
    "meta = pd.read_csv('polemo1_raw/meta.tsv', sep='\\t')\n",
    "meta"
   ],
   "metadata": {
    "collapsed": false
   }
  },
  {
   "cell_type": "code",
   "execution_count": 4,
   "outputs": [
    {
     "name": "stderr",
     "output_type": "stream",
     "text": [
      "/home/marcin/Documents/mgr/semestr_II/uczenie_reprezentacji/repr_venv/lib/python3.10/site-packages/IPython/core/interactiveshell.py:3139: DtypeWarning: Columns (4) have mixed types.Specify dtype option on import or set low_memory=False.\n",
      "  has_raised = await self.run_ast_nodes(code_ast.body, cell_name,\n"
     ]
    },
    {
     "data": {
      "text/plain": "         domain                                               text      super  \\\n0      produkty  Dobrze wykonany , wygodny , zamki nie chodzą c...   z_plus_m   \n1      produkty  Stanowczo odradzam zakup wersji PL aż do momen...  z_minus_m   \n2      produkty           Ciezko mi sie odniesc do tego problemu .      z_amb   \n3      produkty  Brak dostępności tarcz w akceptowalnej cenie s...  z_minus_m   \n4      produkty  W moim subiektywnym odczuciu A4 Tech XL - 750B...  z_minus_m   \n...         ...                                                ...        ...   \n66421  medycyna  ciemna maso a nie fotka u fotografa - a dlacze...     z_zero   \n66422  medycyna  Wspomagali śmy zarówno tą większą , jak i mnie...     z_zero   \n66423  medycyna  Kompetencja oraz zaangażowanie Pana Doktora w ...   z_plus_m   \n66424  medycyna  Jedna analiza wymagała 40 minut , a wynik był ...     z_zero   \n66425  medycyna  Mam pytanie odnośnie prowadzenia ciąży , czy w...     z_zero   \n\n               a       e          k  \n0       z_plus_m     NaN   z_plus_m  \n1      z_minus_m     NaN  z_minus_m  \n2         z_zero     NaN      z_amb  \n3      z_minus_m     NaN  z_minus_m  \n4      z_minus_m     NaN  z_minus_m  \n...          ...     ...        ...  \n66421     z_zero     NaN     z_zero  \n66422     z_zero     NaN     z_zero  \n66423   z_plus_m     NaN   z_plus_m  \n66424     z_zero     NaN     z_zero  \n66425     z_zero  z_zero        NaN  \n\n[66426 rows x 6 columns]",
      "text/html": "<div>\n<style scoped>\n    .dataframe tbody tr th:only-of-type {\n        vertical-align: middle;\n    }\n\n    .dataframe tbody tr th {\n        vertical-align: top;\n    }\n\n    .dataframe thead th {\n        text-align: right;\n    }\n</style>\n<table border=\"1\" class=\"dataframe\">\n  <thead>\n    <tr style=\"text-align: right;\">\n      <th></th>\n      <th>domain</th>\n      <th>text</th>\n      <th>super</th>\n      <th>a</th>\n      <th>e</th>\n      <th>k</th>\n    </tr>\n  </thead>\n  <tbody>\n    <tr>\n      <th>0</th>\n      <td>produkty</td>\n      <td>Dobrze wykonany , wygodny , zamki nie chodzą c...</td>\n      <td>z_plus_m</td>\n      <td>z_plus_m</td>\n      <td>NaN</td>\n      <td>z_plus_m</td>\n    </tr>\n    <tr>\n      <th>1</th>\n      <td>produkty</td>\n      <td>Stanowczo odradzam zakup wersji PL aż do momen...</td>\n      <td>z_minus_m</td>\n      <td>z_minus_m</td>\n      <td>NaN</td>\n      <td>z_minus_m</td>\n    </tr>\n    <tr>\n      <th>2</th>\n      <td>produkty</td>\n      <td>Ciezko mi sie odniesc do tego problemu .</td>\n      <td>z_amb</td>\n      <td>z_zero</td>\n      <td>NaN</td>\n      <td>z_amb</td>\n    </tr>\n    <tr>\n      <th>3</th>\n      <td>produkty</td>\n      <td>Brak dostępności tarcz w akceptowalnej cenie s...</td>\n      <td>z_minus_m</td>\n      <td>z_minus_m</td>\n      <td>NaN</td>\n      <td>z_minus_m</td>\n    </tr>\n    <tr>\n      <th>4</th>\n      <td>produkty</td>\n      <td>W moim subiektywnym odczuciu A4 Tech XL - 750B...</td>\n      <td>z_minus_m</td>\n      <td>z_minus_m</td>\n      <td>NaN</td>\n      <td>z_minus_m</td>\n    </tr>\n    <tr>\n      <th>...</th>\n      <td>...</td>\n      <td>...</td>\n      <td>...</td>\n      <td>...</td>\n      <td>...</td>\n      <td>...</td>\n    </tr>\n    <tr>\n      <th>66421</th>\n      <td>medycyna</td>\n      <td>ciemna maso a nie fotka u fotografa - a dlacze...</td>\n      <td>z_zero</td>\n      <td>z_zero</td>\n      <td>NaN</td>\n      <td>z_zero</td>\n    </tr>\n    <tr>\n      <th>66422</th>\n      <td>medycyna</td>\n      <td>Wspomagali śmy zarówno tą większą , jak i mnie...</td>\n      <td>z_zero</td>\n      <td>z_zero</td>\n      <td>NaN</td>\n      <td>z_zero</td>\n    </tr>\n    <tr>\n      <th>66423</th>\n      <td>medycyna</td>\n      <td>Kompetencja oraz zaangażowanie Pana Doktora w ...</td>\n      <td>z_plus_m</td>\n      <td>z_plus_m</td>\n      <td>NaN</td>\n      <td>z_plus_m</td>\n    </tr>\n    <tr>\n      <th>66424</th>\n      <td>medycyna</td>\n      <td>Jedna analiza wymagała 40 minut , a wynik był ...</td>\n      <td>z_zero</td>\n      <td>z_zero</td>\n      <td>NaN</td>\n      <td>z_zero</td>\n    </tr>\n    <tr>\n      <th>66425</th>\n      <td>medycyna</td>\n      <td>Mam pytanie odnośnie prowadzenia ciąży , czy w...</td>\n      <td>z_zero</td>\n      <td>z_zero</td>\n      <td>z_zero</td>\n      <td>NaN</td>\n    </tr>\n  </tbody>\n</table>\n<p>66426 rows × 6 columns</p>\n</div>"
     },
     "execution_count": 4,
     "metadata": {},
     "output_type": "execute_result"
    }
   ],
   "source": [
    "sentences = pd.read_csv('polemo1_raw/zdania.tsv', sep='\\t', usecols=['domain', 'text', 'super', 'a', 'e', 'k'])\n",
    "sentences"
   ],
   "metadata": {
    "collapsed": false
   }
  },
  {
   "cell_type": "code",
   "execution_count": null,
   "outputs": [],
   "source": [
    "from sklearn.metrics import cohen_kappa_score\n",
    "def cohen_kappa_for_pair(first, second, df):\n",
    "    both_not_na = df[~df[first].isna() & ~df[second].isna()]\n",
    "    if both_not_na.shape[0] == 0:\n",
    "        raise Exception('no pairs to count')\n",
    "    return cohen_kappa_score(both_not_na[first], both_not_na[second]), both_not_na.shape[0]\n",
    "\n",
    "\n",
    "def cohen_kappa_for_data(data, annotators):\n",
    "    firsts = []\n",
    "    seconds = []\n",
    "    kappas = []\n",
    "    sizes = []\n",
    "    if not annotators:\n",
    "        return pd.DataFrame()\n",
    "    first = annotators[0]\n",
    "    for second in annotators[1:]:\n",
    "        kappa, size = cohen_kappa_for_pair(first, second, data)\n",
    "        firsts.append(first)\n",
    "        seconds.append(second)\n",
    "        kappas.append(kappa)\n",
    "        sizes.append(size)\n",
    "    df = pd.DataFrame(data={'a': firsts, 'b': seconds, 'cohen_kappa_score': kappas, 'total_samples': sizes})\n",
    "    return df.append(cohen_kappa_for_data(data, annotators[1:]), ignore_index=True)"
   ],
   "metadata": {
    "collapsed": false
   }
  },
  {
   "cell_type": "code",
   "execution_count": 30,
   "outputs": [
    {
     "data": {
      "text/plain": "       a  b  cohen_kappa_score  total_samples\n0  super  a           0.841610         9217.0\n1  super  e           0.861916         4501.0\n2  super  k           0.861805         5596.0\n3      a  e           0.712314         4566.0\n4      a  k           0.758025         5711.0\n5      e  k           0.502300          978.0",
      "text/html": "<div>\n<style scoped>\n    .dataframe tbody tr th:only-of-type {\n        vertical-align: middle;\n    }\n\n    .dataframe tbody tr th {\n        vertical-align: top;\n    }\n\n    .dataframe thead th {\n        text-align: right;\n    }\n</style>\n<table border=\"1\" class=\"dataframe\">\n  <thead>\n    <tr style=\"text-align: right;\">\n      <th></th>\n      <th>a</th>\n      <th>b</th>\n      <th>cohen_kappa_score</th>\n      <th>total_samples</th>\n    </tr>\n  </thead>\n  <tbody>\n    <tr>\n      <th>0</th>\n      <td>super</td>\n      <td>a</td>\n      <td>0.841610</td>\n      <td>9217.0</td>\n    </tr>\n    <tr>\n      <th>1</th>\n      <td>super</td>\n      <td>e</td>\n      <td>0.861916</td>\n      <td>4501.0</td>\n    </tr>\n    <tr>\n      <th>2</th>\n      <td>super</td>\n      <td>k</td>\n      <td>0.861805</td>\n      <td>5596.0</td>\n    </tr>\n    <tr>\n      <th>3</th>\n      <td>a</td>\n      <td>e</td>\n      <td>0.712314</td>\n      <td>4566.0</td>\n    </tr>\n    <tr>\n      <th>4</th>\n      <td>a</td>\n      <td>k</td>\n      <td>0.758025</td>\n      <td>5711.0</td>\n    </tr>\n    <tr>\n      <th>5</th>\n      <td>e</td>\n      <td>k</td>\n      <td>0.502300</td>\n      <td>978.0</td>\n    </tr>\n  </tbody>\n</table>\n</div>"
     },
     "metadata": {},
     "output_type": "display_data"
    },
    {
     "data": {
      "text/plain": "       a  b  cohen_kappa_score  total_samples\n0  super  a           0.842541        53877.0\n1  super  e           0.914460        20776.0\n2  super  k           0.916376        33021.0\n3      a  e           0.787642        21580.0\n4      a  k           0.751136        34177.0\n5      e  k           1.000000           12.0",
      "text/html": "<div>\n<style scoped>\n    .dataframe tbody tr th:only-of-type {\n        vertical-align: middle;\n    }\n\n    .dataframe tbody tr th {\n        vertical-align: top;\n    }\n\n    .dataframe thead th {\n        text-align: right;\n    }\n</style>\n<table border=\"1\" class=\"dataframe\">\n  <thead>\n    <tr style=\"text-align: right;\">\n      <th></th>\n      <th>a</th>\n      <th>b</th>\n      <th>cohen_kappa_score</th>\n      <th>total_samples</th>\n    </tr>\n  </thead>\n  <tbody>\n    <tr>\n      <th>0</th>\n      <td>super</td>\n      <td>a</td>\n      <td>0.842541</td>\n      <td>53877.0</td>\n    </tr>\n    <tr>\n      <th>1</th>\n      <td>super</td>\n      <td>e</td>\n      <td>0.914460</td>\n      <td>20776.0</td>\n    </tr>\n    <tr>\n      <th>2</th>\n      <td>super</td>\n      <td>k</td>\n      <td>0.916376</td>\n      <td>33021.0</td>\n    </tr>\n    <tr>\n      <th>3</th>\n      <td>a</td>\n      <td>e</td>\n      <td>0.787642</td>\n      <td>21580.0</td>\n    </tr>\n    <tr>\n      <th>4</th>\n      <td>a</td>\n      <td>k</td>\n      <td>0.751136</td>\n      <td>34177.0</td>\n    </tr>\n    <tr>\n      <th>5</th>\n      <td>e</td>\n      <td>k</td>\n      <td>1.000000</td>\n      <td>12.0</td>\n    </tr>\n  </tbody>\n</table>\n</div>"
     },
     "metadata": {},
     "output_type": "display_data"
    }
   ],
   "source": [
    "display(cohen_kappa_for_data(meta, ['super', 'a', 'e', 'k']))\n",
    "display(cohen_kappa_for_data(sentences, ['super', 'a', 'e', 'k']))"
   ],
   "metadata": {
    "collapsed": false
   }
  },
  {
   "cell_type": "markdown",
   "source": [
    "Zgodności z superanotatorem są silne. Zgodności między anotatorami wynoszące powyżej 0.7 nie są idealne, ale zwłaszcza w przypadku zdań są bliskie wartości 0.8, do której się dąży. Widać potrzebę korzystania z superanotatora, z którym wyniki są zadowalające. Zwraca uwagę bardzo niska zgodność między e i k w zbiorze meta. Anotatorzy mają najmniej wspólnie anotowanych próbek i zgadzają się w bardzo małej liczbie przykładów. Wyniki wskazują na dość dobrą jakość anotacji, jednak widać jeszcze, że istniejące procedury prawdopodobnie można poprawić."
   ],
   "metadata": {
    "collapsed": false
   }
  },
  {
   "cell_type": "code",
   "execution_count": 58,
   "outputs": [
    {
     "name": "stdout",
     "output_type": "stream",
     "text": [
      "Collecting simpledorff\r\n",
      "  Downloading simpledorff-0.0.2-py3-none-any.whl (5.6 kB)\r\n",
      "Installing collected packages: simpledorff\r\n",
      "Successfully installed simpledorff-0.0.2\r\n"
     ]
    }
   ],
   "source": [
    "!pip install simpledorff"
   ],
   "metadata": {
    "collapsed": false
   }
  },
  {
   "cell_type": "code",
   "execution_count": null,
   "outputs": [],
   "source": [
    "import simpledorff"
   ],
   "metadata": {
    "collapsed": false
   }
  },
  {
   "cell_type": "code",
   "execution_count": 73,
   "outputs": [],
   "source": [
    "krippendorff_meta = simpledorff.calculate_krippendorffs_alpha(meta.T.loc[['super', 'a', 'e', 'k']])\n",
    "krippendorff_sentences = simpledorff.calculate_krippendorffs_alpha(sentences.T.loc[['super', 'a', 'e', 'k']])"
   ],
   "metadata": {
    "collapsed": false
   }
  },
  {
   "cell_type": "code",
   "execution_count": 78,
   "outputs": [
    {
     "name": "stdout",
     "output_type": "stream",
     "text": [
      "krippendorff_alpha on meta     : 0.8089\n",
      "krippendorff_alpha on sentences: 0.8350\n"
     ]
    }
   ],
   "source": [
    "print(f'krippendorff_alpha on meta     : {krippendorff_meta:.4f}')\n",
    "print(f'krippendorff_alpha on sentences: {krippendorff_sentences:.4f}')"
   ],
   "metadata": {
    "collapsed": false
   }
  },
  {
   "cell_type": "markdown",
   "source": [
    "Użyto metryki nominal, jako że klasy są to oddzielne kategorie, wartości kategoryczne. Nie znając dokładnych zaleceń dla anotatorów porządkowanie wartości w rankingu na zasadzie: 'pozytywne > neutralne > negatywne' mogłoby nie być zgodne z intencją twórców danych i zakłamywać wyniki. Wartość metryki jest dość bliska do wartości uzyskanych z użyciem Cohen-Kappa, wskazując na ogólnie dość dobry wynik. Wartości są \"uśrednione\", więc nie widać wyższych wartości z superanotatorem i niższych między zwykłymi"
   ],
   "metadata": {
    "collapsed": false
   }
  }
 ],
 "metadata": {
  "kernelspec": {
   "display_name": "Python 3",
   "language": "python",
   "name": "python3"
  },
  "language_info": {
   "codemirror_mode": {
    "name": "ipython",
    "version": 2
   },
   "file_extension": ".py",
   "mimetype": "text/x-python",
   "name": "python",
   "nbconvert_exporter": "python",
   "pygments_lexer": "ipython2",
   "version": "2.7.6"
  }
 },
 "nbformat": 4,
 "nbformat_minor": 0
}
